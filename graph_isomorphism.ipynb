{
 "cells": [
  {
   "attachments": {},
   "cell_type": "markdown",
   "metadata": {},
   "source": [
    "#Graph Isomorphism Problem\n",
    "***\n",
    "The graph isomorphism problem is a computational problem in graph theory. Given two graphs, it asks whether they are isomorphic, i.e., if there exists a bijection (a one-to-one correspondence) between their vertices such that their edges are mapped to each other in a way that preserves the structure of the graph. In other words, two graphs are isomorphic if one can be transformed into the other by relabeling the vertices. It is unknown whether this problem can be solved in polynomial time.\n",
    "\n",
    "The most efficient algorithm to determine whether two graphs are isomorphic was discovered in 2015 by László Babai, and improved open in 2017 after a flaw was found in the original implementation.\n",
    "\n"
   ]
  },
  {
   "cell_type": "code",
   "execution_count": null,
   "metadata": {},
   "outputs": [],
   "source": []
  }
 ],
 "metadata": {
  "language_info": {
   "name": "python"
  },
  "orig_nbformat": 4
 },
 "nbformat": 4,
 "nbformat_minor": 2
}
