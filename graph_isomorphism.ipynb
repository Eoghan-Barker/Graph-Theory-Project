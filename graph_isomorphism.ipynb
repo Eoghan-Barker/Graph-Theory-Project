{
 "cells": [
  {
   "attachments": {},
   "cell_type": "markdown",
   "metadata": {},
   "source": [
    "#Graph Isomorphism Problem\n",
    "***\n",
    "The graph isomorphism problem is a computational problem in graph theory. Given two graphs, it asks whether they are isomorphic, i.e., if there exists a bijection (a one-to-one correspondence) between their vertices such that their edges are mapped to each other in a way that preserves the structure of the graph. In other words, two graphs are isomorphic if one can be transformed into the other by relabeling the vertices. It is unknown whether this problem can be solved in polynomial time.\n",
    "\n",
    "The most efficient algorithm to determine whether two graphs are isomorphic was discovered in 2015 by László Babai, and improved upon in 2017 after a flaw was found in the original implementation."
   ]
  },
  {
   "attachments": {},
   "cell_type": "markdown",
   "metadata": {},
   "source": [
    "###The Basics\n",
    "***\n",
    "Fundamentaly, we are trying to tell if one graph is exactly the same as another.\n",
    "Given two graphs"
   ]
  },
  {
   "cell_type": "code",
   "execution_count": null,
   "metadata": {},
   "outputs": [],
   "source": []
  }
 ],
 "metadata": {
  "kernelspec": {
   "display_name": "base",
   "language": "python",
   "name": "python3"
  },
  "language_info": {
   "name": "python",
   "version": "3.9.16"
  },
  "orig_nbformat": 4,
  "vscode": {
   "interpreter": {
    "hash": "368c0bb2ff2276c1b201298c99dc520d7b66281e9baf012d7067423a0f3bacbf"
   }
  }
 },
 "nbformat": 4,
 "nbformat_minor": 2
}
