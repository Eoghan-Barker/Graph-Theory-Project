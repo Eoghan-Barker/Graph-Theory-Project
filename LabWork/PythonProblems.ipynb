{
 "cells": [
  {
   "attachments": {},
   "cell_type": "markdown",
   "metadata": {},
   "source": [
    "# Python Problems\n",
    "***\n",
    "### Question 1\n",
    "Write a function sumultiply that takes two integer arguments and returns\n",
    "their product. The function should not use the * or / operators."
   ]
  },
  {
   "cell_type": "code",
   "execution_count": null,
   "metadata": {},
   "outputs": [],
   "source": [
    "def sumultiply(a, b):\n",
    "    for x in range(a):\n",
    "        b+=b\n",
    "    print(b)\n",
    "\n",
    "sumultiply(11, 13)"
   ]
  },
  {
   "attachments": {},
   "cell_type": "markdown",
   "metadata": {},
   "source": [
    "### Question 2\n",
    "Write a function ispalindrome that takes a string and returns True if the\n",
    "string is a palindrome and False otherwise."
   ]
  },
  {
   "cell_type": "code",
   "execution_count": null,
   "metadata": {},
   "outputs": [],
   "source": [
    "def isPalindrome(s):\n",
    "    return s == s[::-1]\n",
    "  \n",
    "  \n",
    "s = \"radar\"\n",
    "ans = isPalindrome(s)\n",
    "  \n",
    "if ans:\n",
    "    print(\"Yes\")\n",
    "else:\n",
    "    print(\"No\")"
   ]
  }
 ],
 "metadata": {
  "kernelspec": {
   "display_name": "base",
   "language": "python",
   "name": "python3"
  },
  "language_info": {
   "name": "python",
   "version": "3.9.16"
  },
  "orig_nbformat": 4
 },
 "nbformat": 4,
 "nbformat_minor": 2
}
